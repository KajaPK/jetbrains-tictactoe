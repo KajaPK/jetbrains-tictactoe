{
 "cells": [
  {
   "metadata": {},
   "cell_type": "markdown",
   "source": [
    "## The Tic-Tac-Toe Library\n",
    "\n",
    "This notebook demonstrates how to use the TicTacToe library to run a game of Tic-Tac-Toe against an AI. I recommend checking out the TicTacToeDemo before reading this one.\n",
    "Let's begin by importing the necessary class:"
   ]
  },
  {
   "cell_type": "code",
   "metadata": {
    "collapsed": true,
    "ExecuteTime": {
     "end_time": "2025-10-26T23:29:05.949300700Z",
     "start_time": "2025-10-26T23:29:05.917895Z"
    }
   },
   "source": [
    "@file:DependsOn(\"../lib/build/libs/lib.jar\")\n",
    "import org.jetbrains.kotlinx.tictactoe.*"
   ],
   "outputs": [],
   "execution_count": 9
  },
  {
   "metadata": {},
   "cell_type": "markdown",
   "source": [
    "### Starting a new game\n",
    "\n",
    "To start a game of Tic-Tac-Toe, we first need to create a new TicTacToe instance. Then, call the startGame function with the names our human player."
   ]
  },
  {
   "metadata": {
    "ExecuteTime": {
     "end_time": "2025-10-26T23:29:06.021330700Z",
     "start_time": "2025-10-26T23:29:05.955128700Z"
    }
   },
   "cell_type": "code",
   "source": [
    "val game = TicTacToeComputer()\n",
    "game.startGame(\"Jenny\")\n",
    "\n",
    "println(\"Game started between ${game.getPlayerX().name} (X) and ${game.getPlayerO().name} (O).\")\n",
    "println(\"Current player: ${game.getCurrentPlayer().name}\")"
   ],
   "outputs": [
    {
     "name": "stdout",
     "output_type": "stream",
     "text": [
      "Game started between Jenny (X) and Computer (O).\r\n",
      "Current player: Jenny\r\n"
     ]
    }
   ],
   "execution_count": 10
  },
  {
   "metadata": {},
   "cell_type": "markdown",
   "source": "We can again implement a function that will display our board."
  },
  {
   "metadata": {
    "ExecuteTime": {
     "end_time": "2025-10-26T23:29:06.177867700Z",
     "start_time": "2025-10-26T23:29:06.091530500Z"
    }
   },
   "cell_type": "code",
   "source": [
    "fun printBoard(board: List<List<Char>>) {\n",
    "    println(\"  0   1   2\")\n",
    "    board.forEachIndexed { i, row ->\n",
    "        println(\"$i ${row.joinToString(\" | \")}\")\n",
    "        if (i < 2) println(\"  ---------\")\n",
    "    }\n",
    "}\n",
    "\n",
    "printBoard(game.getBoard())"
   ],
   "outputs": [
    {
     "name": "stdout",
     "output_type": "stream",
     "text": [
      "  0   1   2\r\n",
      "0   |   |  \r\n",
      "  ---------\r\n",
      "1   |   |  \r\n",
      "  ---------\r\n",
      "2   |   |  \r\n"
     ]
    }
   ],
   "execution_count": 11
  },
  {
   "metadata": {},
   "cell_type": "markdown",
   "source": [
    "### Playing the game\n",
    "\n",
    "To make a move as a human, use the makeMove function as before. To get the AI's move, use the makeComputerMove function without any parameters. It will compute the best possible move using the minimax algorithm. Our `game` object will keep track of the turns."
   ]
  },
  {
   "metadata": {
    "ExecuteTime": {
     "end_time": "2025-10-26T23:29:06.371088100Z",
     "start_time": "2025-10-26T23:29:06.186501Z"
    }
   },
   "cell_type": "code",
   "source": [
    "println(\"Current player: ${game.getCurrentPlayer().name}\")\n",
    "game.makeMove(1, 1) // Jenny\n",
    "printBoard(game.getBoard())\n",
    "\n",
    "println(\"\\nCurrent player: ${game.getCurrentPlayer().name}\")\n",
    "game.makeComputerMove() // Computer\n",
    "printBoard(game.getBoard())\n",
    "\n",
    "println(\"\\nCurrent player: ${game.getCurrentPlayer().name}\")\n",
    "game.makeMove(2, 2) // Jenny\n",
    "printBoard(game.getBoard())\n",
    "\n",
    "println(\"\\nCurrent player: ${game.getCurrentPlayer().name}\")\n",
    "game.makeComputerMove() // Computer\n",
    "printBoard(game.getBoard())\n",
    "\n",
    "println(\"\\nCurrent player: ${game.getCurrentPlayer().name}\")\n",
    "game.makeMove(0, 1) // Jenny\n",
    "printBoard(game.getBoard())\n",
    "\n",
    "println(\"\\nCurrent player: ${game.getCurrentPlayer().name}\")\n",
    "game.makeComputerMove() // Computer\n",
    "printBoard(game.getBoard())\n",
    "\n",
    "println(\"\\nCurrent player: ${game.getCurrentPlayer().name}\")\n",
    "game.makeMove(1, 0) // Jenny\n",
    "printBoard(game.getBoard())\n",
    "\n",
    "println(\"\\nCurrent player: ${game.getCurrentPlayer().name}\")\n",
    "game.makeComputerMove() // Computer\n",
    "printBoard(game.getBoard())\n",
    "\n",
    "println(\"\\nCurrent player: ${game.getCurrentPlayer().name}\")\n",
    "game.makeMove(2, 0) // Jenny\n",
    "printBoard(game.getBoard())"
   ],
   "outputs": [
    {
     "name": "stdout",
     "output_type": "stream",
     "text": [
      "Current player: Jenny\r\n",
      "  0   1   2\r\n",
      "0   |   |  \r\n",
      "  ---------\r\n",
      "1   | X |  \r\n",
      "  ---------\r\n",
      "2   |   |  \r\n",
      "\n",
      "Current player: Computer\r\n",
      "  0   1   2\r\n",
      "0 O |   |  \r\n",
      "  ---------\r\n",
      "1   | X |  \r\n",
      "  ---------\r\n",
      "2   |   |  \r\n",
      "\n",
      "Current player: Jenny\r\n",
      "  0   1   2\r\n",
      "0 O |   |  \r\n",
      "  ---------\r\n",
      "1   | X |  \r\n",
      "  ---------\r\n",
      "2   |   | X\r\n",
      "\n",
      "Current player: Computer\r\n",
      "  0   1   2\r\n",
      "0 O |   | O\r\n",
      "  ---------\r\n",
      "1   | X |  \r\n",
      "  ---------\r\n",
      "2   |   | X\r\n",
      "\n",
      "Current player: Jenny\r\n",
      "  0   1   2\r\n",
      "0 O | X | O\r\n",
      "  ---------\r\n",
      "1   | X |  \r\n",
      "  ---------\r\n",
      "2   |   | X\r\n",
      "\n",
      "Current player: Computer\r\n",
      "  0   1   2\r\n",
      "0 O | X | O\r\n",
      "  ---------\r\n",
      "1   | X |  \r\n",
      "  ---------\r\n",
      "2   | O | X\r\n",
      "\n",
      "Current player: Jenny\r\n",
      "  0   1   2\r\n",
      "0 O | X | O\r\n",
      "  ---------\r\n",
      "1 X | X |  \r\n",
      "  ---------\r\n",
      "2   | O | X\r\n",
      "\n",
      "Current player: Computer\r\n",
      "  0   1   2\r\n",
      "0 O | X | O\r\n",
      "  ---------\r\n",
      "1 X | X | O\r\n",
      "  ---------\r\n",
      "2   | O | X\r\n",
      "\n",
      "Current player: Jenny\r\n",
      "  0   1   2\r\n",
      "0 O | X | O\r\n",
      "  ---------\r\n",
      "1 X | X | O\r\n",
      "  ---------\r\n",
      "2 X | O | X\r\n"
     ]
    }
   ],
   "execution_count": 12
  },
  {
   "metadata": {},
   "cell_type": "markdown",
   "source": [
    "### The end of the game\n",
    "\n",
    "Can you already see the outcome of our game? Let's check the result with the isGameOver() and getWinner() functions.\n"
   ]
  },
  {
   "metadata": {
    "ExecuteTime": {
     "end_time": "2025-10-26T23:29:06.469256900Z",
     "start_time": "2025-10-26T23:29:06.376924500Z"
    }
   },
   "cell_type": "code",
   "source": [
    "if (game.isGameOver()) {\n",
    "    val winner = game.getWinner()\n",
    "    if (winner != null)\n",
    "        println(\"The winner is ${winner.name} (${winner.symbol})!\")\n",
    "    else\n",
    "        println(\"It's a draw.\")\n",
    "}"
   ],
   "outputs": [
    {
     "name": "stdout",
     "output_type": "stream",
     "text": [
      "It's a draw.\r\n"
     ]
    }
   ],
   "execution_count": 13
  },
  {
   "metadata": {},
   "cell_type": "markdown",
   "source": "As you can see, it's a draw. In fact, it's impossible to beat the AI and the best possible outcome for the human player is a draw."
  },
  {
   "metadata": {},
   "cell_type": "markdown",
   "source": "If we try to get the AI's next move now,we would also get an exception:"
  },
  {
   "metadata": {
    "ExecuteTime": {
     "end_time": "2025-10-26T23:29:06.554684400Z",
     "start_time": "2025-10-26T23:29:06.476004700Z"
    }
   },
   "cell_type": "code",
   "source": [
    "try {\n",
    "    game.makeComputerMove()  // Computer\n",
    "} catch (e: GameAlreadyOverException) {\n",
    "    println(\"Exception: ${e::class.simpleName} - ${e.message}\")\n",
    "}\n"
   ],
   "outputs": [
    {
     "name": "stdout",
     "output_type": "stream",
     "text": [
      "Exception: GameAlreadyOverException - It's a draw! The board is already full.\r\n"
     ]
    }
   ],
   "execution_count": 14
  }
 ],
 "metadata": {
  "kernelspec": {
   "display_name": "Kotlin",
   "language": "kotlin",
   "name": "kotlin"
  },
  "language_info": {
   "name": "kotlin",
   "version": "1.9.23",
   "mimetype": "text/x-kotlin",
   "file_extension": ".kt",
   "pygments_lexer": "kotlin",
   "codemirror_mode": "text/x-kotlin",
   "nbconvert_exporter": ""
  }
 },
 "nbformat": 4,
 "nbformat_minor": 0
}
