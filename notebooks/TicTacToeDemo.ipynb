{
 "cells": [
  {
   "metadata": {},
   "cell_type": "markdown",
   "source": [
    "## The Tic-Tac-Toe Library\n",
    "\n",
    "This notebook demonstrates how to use the TicTacToe library to run a game of Tic-Tac-Toe.\n",
    "Let's begin by importing the necessary class:"
   ]
  },
  {
   "cell_type": "code",
   "metadata": {
    "collapsed": true,
    "ExecuteTime": {
     "end_time": "2025-10-26T23:11:08.043071Z",
     "start_time": "2025-10-26T23:11:07.939850400Z"
    }
   },
   "source": [
    "@file:DependsOn(\"../lib/build/libs/lib.jar\")\n",
    "import org.jetbrains.kotlinx.tictactoe.*"
   ],
   "outputs": [],
   "execution_count": 1
  },
  {
   "metadata": {},
   "cell_type": "markdown",
   "source": [
    "### Starting a new game\n",
    "\n",
    "To start a game of Tic-Tac-Toe, we first need to create a new TicTacToe instance. Then, call the startGame function with the names of the X player and the O player respectively."
   ]
  },
  {
   "metadata": {
    "ExecuteTime": {
     "end_time": "2025-10-26T23:11:08.277245100Z",
     "start_time": "2025-10-26T23:11:08.049074300Z"
    }
   },
   "cell_type": "code",
   "source": [
    "val game = TicTacToe()\n",
    "game.startGame(\"Jenny\", \"Marcus\")\n",
    "\n",
    "println(\"Game started between ${game.getPlayerX().name} (X) and ${game.getPlayerO().name} (O).\")\n",
    "println(\"Current player: ${game.getCurrentPlayer().name}\")"
   ],
   "outputs": [
    {
     "name": "stdout",
     "output_type": "stream",
     "text": [
      "Game started between Jenny (X) and Marcus (O).\r\n",
      "Current player: Jenny\r\n"
     ]
    }
   ],
   "execution_count": 2
  },
  {
   "metadata": {},
   "cell_type": "markdown",
   "source": "We can implement a function that will display our board."
  },
  {
   "metadata": {
    "ExecuteTime": {
     "end_time": "2025-10-26T23:11:08.584054900Z",
     "start_time": "2025-10-26T23:11:08.286310400Z"
    }
   },
   "cell_type": "code",
   "source": [
    "fun printBoard(board: List<List<Char>>) {\n",
    "    println(\"  0   1   2\")\n",
    "    board.forEachIndexed { i, row ->\n",
    "        println(\"$i ${row.joinToString(\" | \")}\")\n",
    "        if (i < 2) println(\"  ---------\")\n",
    "    }\n",
    "}\n",
    "\n",
    "printBoard(game.getBoard())"
   ],
   "outputs": [
    {
     "name": "stdout",
     "output_type": "stream",
     "text": [
      "  0   1   2\r\n",
      "0   |   |  \r\n",
      "  ---------\r\n",
      "1   |   |  \r\n",
      "  ---------\r\n",
      "2   |   |  \r\n"
     ]
    }
   ],
   "execution_count": 3
  },
  {
   "metadata": {},
   "cell_type": "markdown",
   "source": [
    "### Playing the game\n",
    "\n",
    "To make a move, simply use the makeMove function. Our `game` object will keep track of whose turn it is, so all you need is the coordinates. The function will also take care of validating the given coordinates and throw the `IllegalArgumentException` if necessary."
   ]
  },
  {
   "metadata": {
    "ExecuteTime": {
     "end_time": "2025-10-26T23:11:08.744426500Z",
     "start_time": "2025-10-26T23:11:08.594773600Z"
    }
   },
   "cell_type": "code",
   "source": [
    "println(\"Current player: ${game.getCurrentPlayer().name}\")\n",
    "game.makeMove(0, 0) // Jenny\n",
    "printBoard(game.getBoard())\n",
    "\n",
    "println(\"\\nCurrent player: ${game.getCurrentPlayer().name}\")\n",
    "game.makeMove(1, 1) // Marcus\n",
    "printBoard(game.getBoard())\n",
    "\n",
    "println(\"\\nCurrent player: ${game.getCurrentPlayer().name}\")\n",
    "game.makeMove(0, 1) // Jenny\n",
    "printBoard(game.getBoard())\n",
    "\n",
    "println(\"\\nCurrent player: ${game.getCurrentPlayer().name}\")\n",
    "game.makeMove(2, 2) // Marcus\n",
    "printBoard(game.getBoard())\n",
    "\n",
    "println(\"\\nCurrent player: ${game.getCurrentPlayer().name}\")\n",
    "game.makeMove(0, 2) // Jenny\n",
    "printBoard(game.getBoard())"
   ],
   "outputs": [
    {
     "name": "stdout",
     "output_type": "stream",
     "text": [
      "Current player: Jenny\r\n",
      "  0   1   2\r\n",
      "0 X |   |  \r\n",
      "  ---------\r\n",
      "1   |   |  \r\n",
      "  ---------\r\n",
      "2   |   |  \r\n",
      "\n",
      "Current player: Marcus\r\n",
      "  0   1   2\r\n",
      "0 X |   |  \r\n",
      "  ---------\r\n",
      "1   | O |  \r\n",
      "  ---------\r\n",
      "2   |   |  \r\n",
      "\n",
      "Current player: Jenny\r\n",
      "  0   1   2\r\n",
      "0 X | X |  \r\n",
      "  ---------\r\n",
      "1   | O |  \r\n",
      "  ---------\r\n",
      "2   |   |  \r\n",
      "\n",
      "Current player: Marcus\r\n",
      "  0   1   2\r\n",
      "0 X | X |  \r\n",
      "  ---------\r\n",
      "1   | O |  \r\n",
      "  ---------\r\n",
      "2   |   | O\r\n",
      "\n",
      "Current player: Jenny\r\n",
      "  0   1   2\r\n",
      "0 X | X | X\r\n",
      "  ---------\r\n",
      "1   | O |  \r\n",
      "  ---------\r\n",
      "2   |   | O\r\n"
     ]
    }
   ],
   "execution_count": 4
  },
  {
   "metadata": {},
   "cell_type": "markdown",
   "source": [
    "### The end of the game\n",
    "\n",
    "Can you already see the outcome of our game? Let's check the result with the isGameOver() and getWinner() functions.\n"
   ]
  },
  {
   "metadata": {
    "ExecuteTime": {
     "end_time": "2025-10-26T23:11:08.872259200Z",
     "start_time": "2025-10-26T23:11:08.763426600Z"
    }
   },
   "cell_type": "code",
   "source": [
    "if (game.isGameOver()) {\n",
    "    val winner = game.getWinner()\n",
    "    if (winner != null)\n",
    "        println(\"The winner is ${winner.name} (${winner.symbol})!\")\n",
    "    else\n",
    "        println(\"It's a draw.\")\n",
    "}"
   ],
   "outputs": [
    {
     "name": "stdout",
     "output_type": "stream",
     "text": [
      "The winner is Jenny (X)!\r\n"
     ]
    }
   ],
   "execution_count": 5
  },
  {
   "metadata": {},
   "cell_type": "markdown",
   "source": "As you can see, we already have a winner! If Marcus (the player with the O symbol) were to try to make another move, we would get an exception:"
  },
  {
   "metadata": {
    "ExecuteTime": {
     "end_time": "2025-10-26T23:11:09.030685Z",
     "start_time": "2025-10-26T23:11:08.946283200Z"
    }
   },
   "cell_type": "code",
   "source": [
    "try {\n",
    "    game.makeMove(2, 0)  // Marcus\n",
    "} catch (e: GameAlreadyOverException) {\n",
    "    println(\"Exception: ${e::class.simpleName} - ${e.message}\")\n",
    "}\n"
   ],
   "outputs": [
    {
     "name": "stdout",
     "output_type": "stream",
     "text": [
      "Exception: GameAlreadyOverException - Jenny has already won!\r\n"
     ]
    }
   ],
   "execution_count": 6
  }
 ],
 "metadata": {
  "kernelspec": {
   "display_name": "Kotlin",
   "language": "kotlin",
   "name": "kotlin"
  },
  "language_info": {
   "name": "kotlin",
   "version": "1.9.23",
   "mimetype": "text/x-kotlin",
   "file_extension": ".kt",
   "pygments_lexer": "kotlin",
   "codemirror_mode": "text/x-kotlin",
   "nbconvert_exporter": ""
  }
 },
 "nbformat": 4,
 "nbformat_minor": 0
}
